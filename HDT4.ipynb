{
 "cells": [
  {
   "attachments": {},
   "cell_type": "markdown",
   "metadata": {},
   "source": [
    "**Hoja de Trabajo #4** <br>\n",
    "***Arboles de decision*** <br>\n",
    "Diego Ruiz 18761, Jose Jorge Perez 18364"
   ]
  },
  {
   "cell_type": "code",
   "execution_count": 4,
   "metadata": {},
   "outputs": [],
   "source": [
    "import pandas as pd\n",
    "import numpy as np\n",
    "import matplotlib.pyplot as plt\n",
    "from sklearn import datasets\n",
    "from sklearn.model_selection import train_test_split\n",
    "from sklearn.tree import DecisionTreeClassifier \n",
    "from sklearn import tree\n",
    "from sklearn import metrics\n",
    "from sklearn.model_selection import cross_val_predict\n",
    "import seaborn as sb\n",
    "import random\n",
    "import graphviz\n",
    "\n",
    "\n",
    "\n",
    "%matplotlib inline\n",
    "plt.rcParams['figure.figsize'] = (15, 9)\n",
    "plt.style.use('ggplot')"
   ]
  },
  {
   "attachments": {},
   "cell_type": "markdown",
   "metadata": {},
   "source": [
    "1. Use los mismos conjuntos de entrenamiento y prueba que usó para los árboles de decisión en la hoja de trabajo anterior."
   ]
  },
  {
   "cell_type": "code",
   "execution_count": 7,
   "metadata": {},
   "outputs": [
    {
     "name": "stdout",
     "output_type": "stream",
     "text": [
      "        Id  MSSubClass  LotFrontage  LotArea  OverallQual  OverallCond  \\\n",
      "0        1          60         65.0     8450            7            5   \n",
      "1        2          20         80.0     9600            6            8   \n",
      "2        3          60         68.0    11250            7            5   \n",
      "3        4          70         60.0     9550            7            5   \n",
      "4        5          60         84.0    14260            8            5   \n",
      "...    ...         ...          ...      ...          ...          ...   \n",
      "1455  1456          60         62.0     7917            6            5   \n",
      "1456  1457          20         85.0    13175            6            6   \n",
      "1457  1458          70         66.0     9042            7            9   \n",
      "1458  1459          20         68.0     9717            5            6   \n",
      "1459  1460          20         75.0     9937            5            6   \n",
      "\n",
      "      YearBuilt  YearRemodAdd  MasVnrArea  BsmtFinSF1  ...  WoodDeckSF  \\\n",
      "0          2003          2003       196.0         706  ...           0   \n",
      "1          1976          1976         0.0         978  ...         298   \n",
      "2          2001          2002       162.0         486  ...           0   \n",
      "3          1915          1970         0.0         216  ...           0   \n",
      "4          2000          2000       350.0         655  ...         192   \n",
      "...         ...           ...         ...         ...  ...         ...   \n",
      "1455       1999          2000         0.0           0  ...           0   \n",
      "1456       1978          1988       119.0         790  ...         349   \n",
      "1457       1941          2006         0.0         275  ...           0   \n",
      "1458       1950          1996         0.0          49  ...         366   \n",
      "1459       1965          1965         0.0         830  ...         736   \n",
      "\n",
      "      OpenPorchSF  EnclosedPorch  3SsnPorch  ScreenPorch  PoolArea  MiscVal  \\\n",
      "0              61              0          0            0         0        0   \n",
      "1               0              0          0            0         0        0   \n",
      "2              42              0          0            0         0        0   \n",
      "3              35            272          0            0         0        0   \n",
      "4              84              0          0            0         0        0   \n",
      "...           ...            ...        ...          ...       ...      ...   \n",
      "1455           40              0          0            0         0        0   \n",
      "1456            0              0          0            0         0        0   \n",
      "1457           60              0          0            0         0     2500   \n",
      "1458            0            112          0            0         0        0   \n",
      "1459           68              0          0            0         0        0   \n",
      "\n",
      "      MoSold  YrSold  SalePrice  \n",
      "0          2    2008     208500  \n",
      "1          5    2007     181500  \n",
      "2          9    2008     223500  \n",
      "3          2    2006     140000  \n",
      "4         12    2008     250000  \n",
      "...      ...     ...        ...  \n",
      "1455       8    2007     175000  \n",
      "1456       2    2010     210000  \n",
      "1457       5    2010     266500  \n",
      "1458       4    2010     142125  \n",
      "1459       6    2008     147500  \n",
      "\n",
      "[1121 rows x 38 columns]\n"
     ]
    }
   ],
   "source": [
    "datos = pd.read_csv(\"train.csv\")\n",
    "\n",
    "datos = datos.select_dtypes(include='number').dropna(axis=0)\n",
    "random.seed(42)\n",
    "print(datos)\n",
    "\n",
    "datos.groupby('SalePrice').size()\n",
    "\n",
    "Y = datos.pop(\"SalePrice\")\n",
    "X = datos\n",
    "X_train, X_test, y_train, y_test = train_test_split(X, Y, test_size=0.3,train_size=0.7)"
   ]
  },
  {
   "cell_type": "code",
   "execution_count": null,
   "metadata": {},
   "outputs": [],
   "source": [
    "Y = datos.pop(\"SalePrice\")\n",
    "X = datos\n",
    "X_train, X_test, y_train, y_test = train_test_split(X, Y, test_size=0.3,train_size=0.7)"
   ]
  },
  {
   "attachments": {},
   "cell_type": "markdown",
   "metadata": {},
   "source": [
    "2. Elabore un árbol de regresión para predecir el precio de las casas usando todas las variables."
   ]
  },
  {
   "attachments": {},
   "cell_type": "markdown",
   "metadata": {},
   "source": [
    "3. Úselo para predecir y analice el resultado. ¿Qué tal lo hizo?"
   ]
  },
  {
   "attachments": {},
   "cell_type": "markdown",
   "metadata": {},
   "source": [
    "4. Haga, al menos, 3 modelos más cambiando el parámetro de la profundidad del árbol. ¿Cuál es el mejor modelo para predecir el precio de las casas?"
   ]
  },
  {
   "attachments": {},
   "cell_type": "markdown",
   "metadata": {},
   "source": [
    "5. Compare los resultados con el modelo de regresión lineal de la hoja anterior, ¿cuál lo hizo mejor?"
   ]
  },
  {
   "attachments": {},
   "cell_type": "markdown",
   "metadata": {},
   "source": [
    "6. Dependiendo del análisis exploratorio elaborado cree una variable respuesta que le permita clasificar las casas en Económicas, Intermedias o Caras. Los límites de estas clases deben tener un fundamento en la distribución de los datos de precios, y estar bien explicados\n"
   ]
  },
  {
   "attachments": {},
   "cell_type": "markdown",
   "metadata": {},
   "source": [
    "7. Elabore un árbol de clasificación utilizando la variable respuesta que creó en el punto anterior. Explique los resultados a los que llega. Muestre el modelo gráficamente. Recuerde que la nueva variable respuesta es categórica, pero se generó a partir de los precios de las casas, no incluya el precio de venta para entrenar el modelo."
   ]
  },
  {
   "attachments": {},
   "cell_type": "markdown",
   "metadata": {},
   "source": [
    "8. Utilice el modelo con el conjunto de prueba y determine la eficiencia del algoritmo para clasificar."
   ]
  },
  {
   "attachments": {},
   "cell_type": "markdown",
   "metadata": {},
   "source": [
    "9. Haga un análisis de la eficiencia del algoritmo usando una matriz de confusión para el árbol de clasificación. Tenga en cuenta la efectividad, donde el algoritmo se equivocó más, donde se equivocó menos y la importancia que tienen los errores."
   ]
  },
  {
   "attachments": {},
   "cell_type": "markdown",
   "metadata": {},
   "source": [
    "10. Entrene un modelo usando validación cruzada, prediga con él. ¿le fue mejor que al modelo anterior?"
   ]
  },
  {
   "attachments": {},
   "cell_type": "markdown",
   "metadata": {},
   "source": [
    "11. Haga al menos, 3 modelos más cambiando la profundidad del árbol. ¿Cuál funcionó mejor?"
   ]
  },
  {
   "attachments": {},
   "cell_type": "markdown",
   "metadata": {},
   "source": [
    "12. Repita los análisis usando random forest como algoritmo de predicción, explique sus resultados comparando ambos algoritmos."
   ]
  },
  {
   "attachments": {},
   "cell_type": "markdown",
   "metadata": {},
   "source": []
  }
 ],
 "metadata": {
  "kernelspec": {
   "display_name": "Python 3",
   "language": "python",
   "name": "python3"
  },
  "language_info": {
   "codemirror_mode": {
    "name": "ipython",
    "version": 3
   },
   "file_extension": ".py",
   "mimetype": "text/x-python",
   "name": "python",
   "nbconvert_exporter": "python",
   "pygments_lexer": "ipython3",
   "version": "3.9.5"
  },
  "orig_nbformat": 4
 },
 "nbformat": 4,
 "nbformat_minor": 2
}
